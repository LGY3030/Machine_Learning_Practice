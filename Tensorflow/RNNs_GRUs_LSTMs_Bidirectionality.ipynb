{
 "cells": [
  {
   "cell_type": "code",
   "execution_count": 1,
   "metadata": {},
   "outputs": [],
   "source": [
    "# ignore tensorflow messages\n",
    "# import os\n",
    "# os.environ['TF_CPP_MIN_LOG_LEVEL'] = '2'\n",
    "\n",
    "import tensorflow\n",
    "from tensorflow import keras\n",
    "from tensorflow.keras import layers\n",
    "from tensorflow.keras.datasets import mnist"
   ]
  },
  {
   "cell_type": "code",
   "execution_count": 2,
   "metadata": {},
   "outputs": [],
   "source": [
    "(x_train, y_train), (x_test, y_test) = mnist.load_data()\n",
    "x_train = x_train.astype(\"float32\")/255\n",
    "x_test = x_test.astype(\"float32\")/255"
   ]
  },
  {
   "cell_type": "code",
   "execution_count": 3,
   "metadata": {},
   "outputs": [
    {
     "name": "stdout",
     "output_type": "stream",
     "text": [
      "Model: \"sequential\"\n",
      "_________________________________________________________________\n",
      "Layer (type)                 Output Shape              Param #   \n",
      "=================================================================\n",
      "simple_rnn (SimpleRNN)       (None, None, 512)         276992    \n",
      "_________________________________________________________________\n",
      "simple_rnn_1 (SimpleRNN)     (None, 512)               524800    \n",
      "_________________________________________________________________\n",
      "dense (Dense)                (None, 10)                5130      \n",
      "=================================================================\n",
      "Total params: 806,922\n",
      "Trainable params: 806,922\n",
      "Non-trainable params: 0\n",
      "_________________________________________________________________\n",
      "Epoch 1/10\n",
      "938/938 - 93s - loss: 0.3174 - accuracy: 0.9015\n",
      "Epoch 2/10\n",
      "938/938 - 96s - loss: 0.1409 - accuracy: 0.9617\n",
      "Epoch 3/10\n",
      "938/938 - 95s - loss: 0.1206 - accuracy: 0.9671\n",
      "Epoch 4/10\n",
      "938/938 - 95s - loss: 0.1106 - accuracy: 0.9701\n",
      "Epoch 5/10\n",
      "938/938 - 96s - loss: 0.0953 - accuracy: 0.9745\n",
      "Epoch 6/10\n",
      "938/938 - 96s - loss: 0.0828 - accuracy: 0.9780\n",
      "Epoch 7/10\n",
      "938/938 - 97s - loss: 0.0791 - accuracy: 0.9779\n",
      "Epoch 8/10\n",
      "938/938 - 97s - loss: 0.0867 - accuracy: 0.9761\n",
      "Epoch 9/10\n",
      "938/938 - 98s - loss: 0.0709 - accuracy: 0.9802\n",
      "Epoch 10/10\n",
      "938/938 - 98s - loss: 0.0610 - accuracy: 0.9834\n",
      "157/157 - 5s - loss: 0.1022 - accuracy: 0.9726\n"
     ]
    },
    {
     "data": {
      "text/plain": [
       "[0.1022278293967247, 0.972599983215332]"
      ]
     },
     "execution_count": 3,
     "metadata": {},
     "output_type": "execute_result"
    }
   ],
   "source": [
    "model = keras.Sequential()\n",
    "model.add(keras.Input(shape=(None, 28)))\n",
    "model.add(layers.SimpleRNN(512, return_sequences=True, activation='relu'))\n",
    "model.add(layers.SimpleRNN(512, activation='relu'))\n",
    "model.add(layers.Dense(10))\n",
    "model.summary()\n",
    "model.compile(\n",
    "    loss=keras.losses.SparseCategoricalCrossentropy(from_logits=True),\n",
    "    optimizer=keras.optimizers.Adam(lr=0.001),\n",
    "    metrics=[\"accuracy\"]\n",
    ")\n",
    "model.fit(x_train, y_train, batch_size=64, epochs=10, verbose=2)\n",
    "model.evaluate(x_test, y_test, batch_size=64, verbose=2)"
   ]
  },
  {
   "cell_type": "code",
   "execution_count": 5,
   "metadata": {},
   "outputs": [
    {
     "name": "stdout",
     "output_type": "stream",
     "text": [
      "Model: \"sequential_2\"\n",
      "_________________________________________________________________\n",
      "Layer (type)                 Output Shape              Param #   \n",
      "=================================================================\n",
      "gru_2 (GRU)                  (None, None, 256)         219648    \n",
      "_________________________________________________________________\n",
      "gru_3 (GRU)                  (None, 256)               394752    \n",
      "_________________________________________________________________\n",
      "dense_2 (Dense)              (None, 10)                2570      \n",
      "=================================================================\n",
      "Total params: 616,970\n",
      "Trainable params: 616,970\n",
      "Non-trainable params: 0\n",
      "_________________________________________________________________\n",
      "Epoch 1/10\n",
      "938/938 - 42s - loss: 0.3142 - accuracy: 0.8941\n",
      "Epoch 2/10\n",
      "938/938 - 42s - loss: 0.0748 - accuracy: 0.9771\n",
      "Epoch 3/10\n",
      "938/938 - 42s - loss: 0.0534 - accuracy: 0.9840\n",
      "Epoch 4/10\n",
      "938/938 - 42s - loss: 0.0433 - accuracy: 0.9864\n",
      "Epoch 5/10\n",
      "938/938 - 42s - loss: 0.0361 - accuracy: 0.9893\n",
      "Epoch 6/10\n",
      "938/938 - 41s - loss: 0.0307 - accuracy: 0.9904\n",
      "Epoch 7/10\n",
      "938/938 - 42s - loss: 0.0258 - accuracy: 0.9920\n",
      "Epoch 8/10\n",
      "938/938 - 43s - loss: 0.0220 - accuracy: 0.9929\n",
      "Epoch 9/10\n",
      "938/938 - 43s - loss: 0.0206 - accuracy: 0.9936\n",
      "Epoch 10/10\n",
      "938/938 - 43s - loss: 0.0171 - accuracy: 0.9943\n",
      "157/157 - 2s - loss: 0.0351 - accuracy: 0.9903\n"
     ]
    },
    {
     "data": {
      "text/plain": [
       "[0.03505124896764755, 0.9902999997138977]"
      ]
     },
     "execution_count": 5,
     "metadata": {},
     "output_type": "execute_result"
    }
   ],
   "source": [
    "model = keras.Sequential()\n",
    "model.add(keras.Input(shape=(None, 28)))\n",
    "model.add(layers.GRU(256, return_sequences=True, activation='relu'))\n",
    "model.add(layers.GRU(256, activation='relu'))\n",
    "model.add(layers.Dense(10))\n",
    "model.summary()\n",
    "model.compile(\n",
    "    loss=keras.losses.SparseCategoricalCrossentropy(from_logits=True),\n",
    "    optimizer=keras.optimizers.Adam(lr=0.001),\n",
    "    metrics=[\"accuracy\"]\n",
    ")\n",
    "model.fit(x_train, y_train, batch_size=64, epochs=10, verbose=2)\n",
    "model.evaluate(x_test, y_test, batch_size=64, verbose=2)"
   ]
  },
  {
   "cell_type": "code",
   "execution_count": 6,
   "metadata": {},
   "outputs": [
    {
     "name": "stdout",
     "output_type": "stream",
     "text": [
      "Model: \"sequential_3\"\n",
      "_________________________________________________________________\n",
      "Layer (type)                 Output Shape              Param #   \n",
      "=================================================================\n",
      "lstm (LSTM)                  (None, None, 512)         1107968   \n",
      "_________________________________________________________________\n",
      "lstm_1 (LSTM)                (None, 512)               2099200   \n",
      "_________________________________________________________________\n",
      "dense_3 (Dense)              (None, 10)                5130      \n",
      "=================================================================\n",
      "Total params: 3,212,298\n",
      "Trainable params: 3,212,298\n",
      "Non-trainable params: 0\n",
      "_________________________________________________________________\n",
      "Epoch 1/10\n",
      "938/938 - 292s - loss: 0.4349 - accuracy: 0.8572\n",
      "Epoch 2/10\n",
      "938/938 - 291s - loss: 0.0915 - accuracy: 0.9732\n",
      "Epoch 3/10\n",
      "938/938 - 288s - loss: 0.0609 - accuracy: 0.9821\n",
      "Epoch 4/10\n",
      "938/938 - 283s - loss: 0.0456 - accuracy: 0.9871\n",
      "Epoch 5/10\n",
      "938/938 - 295s - loss: 0.0393 - accuracy: 0.9887\n",
      "Epoch 6/10\n",
      "938/938 - 295s - loss: 0.0331 - accuracy: 0.9901\n",
      "Epoch 7/10\n",
      "938/938 - 291s - loss: 0.0283 - accuracy: 0.9916\n",
      "Epoch 8/10\n",
      "938/938 - 294s - loss: 0.0243 - accuracy: 0.9925\n",
      "Epoch 9/10\n",
      "938/938 - 292s - loss: 0.0215 - accuracy: 0.9933\n",
      "Epoch 10/10\n",
      "938/938 - 283s - loss: 0.0209 - accuracy: 0.9935\n",
      "157/157 - 17s - loss: 0.0377 - accuracy: 0.9895\n"
     ]
    },
    {
     "data": {
      "text/plain": [
       "[0.03769901767373085, 0.9894999861717224]"
      ]
     },
     "execution_count": 6,
     "metadata": {},
     "output_type": "execute_result"
    }
   ],
   "source": [
    "model = keras.Sequential()\n",
    "model.add(keras.Input(shape=(None, 28)))\n",
    "model.add(layers.LSTM(512, return_sequences=True, activation='relu'))\n",
    "model.add(layers.LSTM(512, activation='relu'))\n",
    "model.add(layers.Dense(10))\n",
    "model.summary()\n",
    "model.compile(\n",
    "    loss=keras.losses.SparseCategoricalCrossentropy(from_logits=True),\n",
    "    optimizer=keras.optimizers.Adam(lr=0.001),\n",
    "    metrics=[\"accuracy\"]\n",
    ")\n",
    "model.fit(x_train, y_train, batch_size=64, epochs=10, verbose=2)\n",
    "model.evaluate(x_test, y_test, batch_size=64, verbose=2)"
   ]
  },
  {
   "cell_type": "code",
   "execution_count": 7,
   "metadata": {},
   "outputs": [
    {
     "name": "stdout",
     "output_type": "stream",
     "text": [
      "Model: \"sequential_4\"\n",
      "_________________________________________________________________\n",
      "Layer (type)                 Output Shape              Param #   \n",
      "=================================================================\n",
      "bidirectional (Bidirectional (None, None, 1024)        2215936   \n",
      "_________________________________________________________________\n",
      "bidirectional_1 (Bidirection (None, 1024)              6295552   \n",
      "_________________________________________________________________\n",
      "dense_4 (Dense)              (None, 10)                10250     \n",
      "=================================================================\n",
      "Total params: 8,521,738\n",
      "Trainable params: 8,521,738\n",
      "Non-trainable params: 0\n",
      "_________________________________________________________________\n",
      "Epoch 1/10\n",
      "938/938 - 693s - loss: 1.8183 - accuracy: 0.7922\n",
      "Epoch 2/10\n",
      "938/938 - 710s - loss: 1.2616 - accuracy: 0.9383\n",
      "Epoch 3/10\n",
      "938/938 - 701s - loss: 0.1002 - accuracy: 0.9687\n",
      "Epoch 4/10\n",
      "938/938 - 672s - loss: 0.0732 - accuracy: 0.9773\n",
      "Epoch 5/10\n",
      "938/938 - 666s - loss: 0.0593 - accuracy: 0.9819\n",
      "Epoch 6/10\n",
      "938/938 - 666s - loss: 0.0500 - accuracy: 0.9839\n",
      "Epoch 7/10\n",
      "938/938 - 667s - loss: 0.0436 - accuracy: 0.9862\n",
      "Epoch 8/10\n",
      "938/938 - 666s - loss: 4.2975 - accuracy: 0.9481\n",
      "Epoch 9/10\n",
      "938/938 - 665s - loss: 0.1169 - accuracy: 0.9640\n",
      "Epoch 10/10\n",
      "938/938 - 676s - loss: 94889.9922 - accuracy: 0.3246\n",
      "157/157 - 35s - loss: 156242.0000 - accuracy: 0.0974\n"
     ]
    },
    {
     "data": {
      "text/plain": [
       "[156242.0, 0.09740000218153]"
      ]
     },
     "execution_count": 7,
     "metadata": {},
     "output_type": "execute_result"
    }
   ],
   "source": [
    "model = keras.Sequential()\n",
    "model.add(keras.Input(shape=(None, 28)))\n",
    "model.add(\n",
    "    layers.Bidirectional(\n",
    "        layers.LSTM(512, return_sequences=True, activation='relu')\n",
    "    )\n",
    ")\n",
    "model.add(\n",
    "    layers.Bidirectional(\n",
    "        layers.LSTM(512, activation='relu')\n",
    "    )\n",
    ")\n",
    "model.add(layers.Dense(10))\n",
    "model.summary()\n",
    "model.compile(\n",
    "    loss=keras.losses.SparseCategoricalCrossentropy(from_logits=True),\n",
    "    optimizer=keras.optimizers.Adam(lr=0.001),\n",
    "    metrics=[\"accuracy\"]\n",
    ")\n",
    "model.fit(x_train, y_train, batch_size=64, epochs=10, verbose=2)\n",
    "model.evaluate(x_test, y_test, batch_size=64, verbose=2)"
   ]
  },
  {
   "cell_type": "code",
   "execution_count": null,
   "metadata": {},
   "outputs": [],
   "source": []
  }
 ],
 "metadata": {
  "kernelspec": {
   "display_name": "Python 3",
   "language": "python",
   "name": "python3"
  },
  "language_info": {
   "codemirror_mode": {
    "name": "ipython",
    "version": 3
   },
   "file_extension": ".py",
   "mimetype": "text/x-python",
   "name": "python",
   "nbconvert_exporter": "python",
   "pygments_lexer": "ipython3",
   "version": "3.8.3"
  }
 },
 "nbformat": 4,
 "nbformat_minor": 4
}
