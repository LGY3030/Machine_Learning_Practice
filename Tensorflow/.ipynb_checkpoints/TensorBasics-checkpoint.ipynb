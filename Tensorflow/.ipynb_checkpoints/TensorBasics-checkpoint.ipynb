{
 "cells": [
  {
   "cell_type": "code",
   "execution_count": 2,
   "metadata": {},
   "outputs": [],
   "source": [
    "import tensorflow as tf"
   ]
  },
  {
   "cell_type": "code",
   "execution_count": 2,
   "metadata": {},
   "outputs": [
    {
     "name": "stdout",
     "output_type": "stream",
     "text": [
      "2.3.1\n"
     ]
    }
   ],
   "source": [
    "print(tf.__version__)"
   ]
  },
  {
   "cell_type": "code",
   "execution_count": 26,
   "metadata": {},
   "outputs": [
    {
     "name": "stdout",
     "output_type": "stream",
     "text": [
      "tf.Tensor(10.0, shape=(), dtype=float32)\n",
      "tf.Tensor(\n",
      "[[1 2 3]\n",
      " [4 5 6]], shape=(2, 3), dtype=int32)\n",
      "tf.Tensor(\n",
      "[[1. 1. 1. 1. 1. 1.]\n",
      " [1. 1. 1. 1. 1. 1.]\n",
      " [1. 1. 1. 1. 1. 1.]], shape=(3, 6), dtype=float32)\n",
      "tf.Tensor(\n",
      "[[0. 0. 0.]\n",
      " [0. 0. 0.]], shape=(2, 3), dtype=float32)\n",
      "tf.Tensor(\n",
      "[[1. 0. 0. 0. 0. 0.]\n",
      " [0. 1. 0. 0. 0. 0.]\n",
      " [0. 0. 1. 0. 0. 0.]\n",
      " [0. 0. 0. 1. 0. 0.]\n",
      " [0. 0. 0. 0. 1. 0.]\n",
      " [0. 0. 0. 0. 0. 1.]], shape=(6, 6), dtype=float32)\n",
      "tf.Tensor(\n",
      "[[[ 1.0296979  -0.27617103  0.7127423  -0.6695015 ]\n",
      "  [ 0.39034227 -0.78824574  2.0122955   0.4555569 ]\n",
      "  [ 0.26161748 -0.8537581  -1.590129   -1.0496942 ]\n",
      "  [-0.19633698 -0.6558711   1.8008474  -1.1148837 ]\n",
      "  [-0.66835284  0.13936543  1.1524066   1.2422187 ]\n",
      "  [ 0.6855693  -0.2472573  -0.7708092   0.18880308]\n",
      "  [-0.33349445  1.1012961  -0.18558237 -0.82547283]\n",
      "  [ 0.15652792 -0.7444555   0.30251205 -0.98089623]]\n",
      "\n",
      " [[ 1.8340569   0.38182285  1.2226416   1.851041  ]\n",
      "  [ 0.75211185  1.2614195   0.06901596  0.48268336]\n",
      "  [-0.7968825  -0.72909695  0.11085662 -1.3355466 ]\n",
      "  [ 1.2292712   1.8313247  -1.0302247  -0.8659286 ]\n",
      "  [ 1.9326097  -0.8664034  -0.4861779  -0.35324505]\n",
      "  [-1.259607   -2.0470128   0.5024895   1.1786449 ]\n",
      "  [ 1.5325788  -0.00890449  1.1272427   0.5923814 ]\n",
      "  [ 0.35345295  0.18744987  0.57297516 -1.0453602 ]]\n",
      "\n",
      " [[ 1.3593911   0.08178381 -0.2612689   1.0777488 ]\n",
      "  [-1.0169116  -1.080542    0.5466819   1.463429  ]\n",
      "  [-0.27973822  1.3621813   0.78925514  1.3358629 ]\n",
      "  [ 1.7555445   0.55475366 -0.14127685  1.086132  ]\n",
      "  [-1.1962527   2.5972111  -0.0927183   0.20600662]\n",
      "  [ 1.4601791  -1.3162334   0.6989854   0.5425268 ]\n",
      "  [-1.2587692   2.445015    0.00948398 -0.6078841 ]\n",
      "  [ 0.09436757 -0.09121712  0.15425429 -0.19865808]]], shape=(3, 8, 4), dtype=float32)\n",
      "tf.Tensor(\n",
      "[[0.54901004 0.37732232 0.02959692 0.10075724 0.9830793 ]\n",
      " [0.95134485 0.9625828  0.36176896 0.91453445 0.14890337]\n",
      " [0.752161   0.762776   0.37209857 0.60338545 0.4016297 ]\n",
      " [0.22581398 0.9631821  0.57654715 0.976732   0.5970081 ]\n",
      " [0.6713731  0.25755882 0.21650243 0.958277   0.2957461 ]], shape=(5, 5), dtype=float32)\n",
      "tf.Tensor([0 1 2 3 4 5 6 7 8], shape=(9,), dtype=int32)\n",
      "tf.Tensor([0. 2. 4. 6. 8.], shape=(5,), dtype=float32)\n",
      "tf.Tensor([0. 2. 4. 6. 8.], shape=(5,), dtype=float32)\n"
     ]
    }
   ],
   "source": [
    "#Initialization of tensors\n",
    "x = tf.constant(10,dtype=tf.float32)\n",
    "print(x)\n",
    "x = tf.constant([[1,2,3],[4,5,6]])\n",
    "print(x)\n",
    "x = tf.ones((3,6))\n",
    "print(x)\n",
    "x = tf.zeros((2,3))\n",
    "print(x)\n",
    "x = tf.eye(6) #identity matrix\n",
    "print(x)\n",
    "x = tf.random.normal((3,8,4), mean=0, stddev=1)\n",
    "print(x)\n",
    "x = tf.random.uniform((5,5), minval=0, maxval=1)\n",
    "print(x)\n",
    "x = tf.range(9)\n",
    "print(x)\n",
    "x = tf.range(start=0, limit=9, delta=2, dtype=tf.float32)\n",
    "print(x)\n",
    "x = tf.range(start=0, limit=9, delta=2)\n",
    "x = tf.cast(x, dtype=tf.float32)\n",
    "print(x)"
   ]
  },
  {
   "cell_type": "code",
   "execution_count": 58,
   "metadata": {},
   "outputs": [
    {
     "name": "stdout",
     "output_type": "stream",
     "text": [
      "tf.Tensor([10 10 10], shape=(3,), dtype=int32)\n",
      "tf.Tensor([10 10 10], shape=(3,), dtype=int32)\n",
      "tf.Tensor([-8 -6 -4], shape=(3,), dtype=int32)\n",
      "tf.Tensor([-8 -6 -4], shape=(3,), dtype=int32)\n",
      "tf.Tensor([0.11111111 0.25       0.42857143], shape=(3,), dtype=float64)\n",
      "tf.Tensor([0.11111111 0.25       0.42857143], shape=(3,), dtype=float64)\n",
      "tf.Tensor([ 9 16 21], shape=(3,), dtype=int32)\n",
      "tf.Tensor([ 9 16 21], shape=(3,), dtype=int32)\n",
      "tf.Tensor(46, shape=(), dtype=int32)\n",
      "tf.Tensor(46, shape=(), dtype=int32)\n",
      "tf.Tensor([  1  32 243], shape=(3,), dtype=int32)\n",
      "tf.Tensor(\n",
      "[[ 0.12033564 -3.9481525  -1.5835301   0.4957475 ]\n",
      " [-0.7239359  -0.8433733   0.07637656 -0.64118576]], shape=(2, 4), dtype=float32)\n",
      "tf.Tensor(\n",
      "[[ 0.12033564 -3.9481525  -1.5835301   0.4957475 ]\n",
      " [-0.7239359  -0.8433733   0.07637656 -0.64118576]], shape=(2, 4), dtype=float32)\n"
     ]
    }
   ],
   "source": [
    "#Mathematical Operations\n",
    "x = tf.constant([1,2,3])\n",
    "y = tf.constant([9,8,7])\n",
    "z = tf.add(x,y)\n",
    "print(z)\n",
    "w = x+y\n",
    "print(w)\n",
    "z = tf.subtract(x,y)\n",
    "print(z)\n",
    "w = x-y\n",
    "print(w)\n",
    "z = tf.divide(x,y)\n",
    "print(z)\n",
    "w = x/y\n",
    "print(w)\n",
    "z = tf.multiply(x,y)\n",
    "print(z)\n",
    "w = x*y\n",
    "print(w)\n",
    "z = tf.tensordot(x,y,axes=1) #axes是指x的最後n個維度 與 y的前n個維度相乘\n",
    "print(z)\n",
    "w = tf.reduce_sum(x*y, axis=0) #axis是指第幾個維度的總和\n",
    "print(w)\n",
    "z = x**5\n",
    "print(z)\n",
    "\n",
    "x = tf.random.normal((2,3))\n",
    "y = tf.random.normal((3,4))\n",
    "z = tf.matmul(x,y)\n",
    "print(z)\n",
    "w = x@y\n",
    "print(z)"
   ]
  },
  {
   "cell_type": "code",
   "execution_count": 13,
   "metadata": {},
   "outputs": [
    {
     "name": "stdout",
     "output_type": "stream",
     "text": [
      "tf.Tensor([1 2 3 4 5 1 2 3 4 5 3 2 1], shape=(13,), dtype=int32)\n",
      "tf.Tensor([2 3 4 5 1 2 3 4 5 3 2 1], shape=(12,), dtype=int32)\n",
      "tf.Tensor([2 3], shape=(2,), dtype=int32)\n",
      "tf.Tensor([1 3 5 2 4 3 1], shape=(7,), dtype=int32)\n",
      "tf.Tensor([1 2 3 5 4 3 2 1 5 4 3 2 1], shape=(13,), dtype=int32)\n",
      "tf.Tensor([2 4], shape=(2,), dtype=int32)\n",
      "tf.Tensor([1.38158    0.72591496 0.90375996], shape=(3,), dtype=float32)\n",
      "tf.Tensor([1.38158    0.72591496 0.90375996], shape=(3,), dtype=float32)\n",
      "tf.Tensor(\n",
      "[[ 1.38158     0.72591496  0.90375996]\n",
      " [ 0.7401788  -1.4018766   0.3639545 ]], shape=(2, 3), dtype=float32)\n",
      "tf.Tensor(\n",
      "[[ 1.38158     0.72591496  0.90375996]\n",
      " [ 0.7401788  -1.4018766   0.3639545 ]], shape=(2, 3), dtype=float32)\n"
     ]
    }
   ],
   "source": [
    "#Indexing\n",
    "x = tf.constant([1,2,3,4,5,1,2,3,4,5,3,2,1])\n",
    "print(x[:])\n",
    "print(x[1:])\n",
    "print(x[1:3])\n",
    "print(x[::2])#隔一個\n",
    "print(x[::-1])#reverse\n",
    "\n",
    "indices = tf.constant([1,3])\n",
    "x_ind = tf.gather(x,indices)\n",
    "print(x_ind)\n",
    "\n",
    "x = tf.random.normal((2,3))\n",
    "print(x[0])\n",
    "print(x[0,:])\n",
    "print(x[0:2])\n",
    "print(x[0:2,:])"
   ]
  },
  {
   "cell_type": "code",
   "execution_count": 24,
   "metadata": {},
   "outputs": [
    {
     "name": "stdout",
     "output_type": "stream",
     "text": [
      "tf.Tensor([0 1 2 3 4 5 6 7 8], shape=(9,), dtype=int32)\n",
      "tf.Tensor(\n",
      "[[0 1 2]\n",
      " [3 4 5]\n",
      " [6 7 8]], shape=(3, 3), dtype=int32)\n",
      "tf.Tensor(\n",
      "[[0 3 6]\n",
      " [1 4 7]\n",
      " [2 5 8]], shape=(3, 3), dtype=int32)\n"
     ]
    }
   ],
   "source": [
    "#Reshaping\n",
    "x = tf.range(9)\n",
    "print(x)\n",
    "\n",
    "x = tf.reshape(x, (3,3))\n",
    "print(x)\n",
    "\n",
    "x = tf.transpose(x, perm=[1,0])\n",
    "print(x)"
   ]
  },
  {
   "cell_type": "code",
   "execution_count": null,
   "metadata": {},
   "outputs": [],
   "source": []
  }
 ],
 "metadata": {
  "kernelspec": {
   "display_name": "Python 3",
   "language": "python",
   "name": "python3"
  },
  "language_info": {
   "codemirror_mode": {
    "name": "ipython",
    "version": 3
   },
   "file_extension": ".py",
   "mimetype": "text/x-python",
   "name": "python",
   "nbconvert_exporter": "python",
   "pygments_lexer": "ipython3",
   "version": "3.8.3"
  }
 },
 "nbformat": 4,
 "nbformat_minor": 4
}
